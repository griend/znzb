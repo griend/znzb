{
 "cells": [
  {
   "cell_type": "markdown",
   "id": "e742b8b9",
   "metadata": {},
   "source": [
    "# BTC"
   ]
  },
  {
   "cell_type": "code",
   "execution_count": 1,
   "id": "bd5ba8f2",
   "metadata": {},
   "outputs": [],
   "source": [
    "import os\n",
    "import sqlite3\n",
    "\n",
    "import matplotlib.pyplot as plt\n",
    "import numpy as np\n",
    "import pandas as pd"
   ]
  },
  {
   "cell_type": "markdown",
   "id": "c87cc7cb",
   "metadata": {},
   "source": [
    "Configure variables in a central place:\n",
    "* `connection` - connection to the SQLite database\n",
    "* `market` - string"
   ]
  },
  {
   "cell_type": "code",
   "execution_count": 2,
   "id": "214cf424",
   "metadata": {},
   "outputs": [],
   "source": [
    "connection = sqlite3.connect(os.path.expanduser('~/var/zanzibar/db/zanzibar.db'))\n",
    "\n",
    "# Only change this:\n",
    "market = 'BTC-EUR'"
   ]
  },
  {
   "cell_type": "markdown",
   "id": "6a843ef1",
   "metadata": {},
   "source": [
    "Fetch the data from the SQLite database and print an overview.\n",
    "\n",
    "* Timestamp stores the local date/time (Europe/Amsterdam) in Unix epoch seconds (seconds since 1 january 1970 UTC). \n",
    "\n",
    "* Open is the openings price in EUR (€).\n",
    "\n",
    "* High is the highest price in EUR (€)\n",
    "\n",
    "* Low is the lowest price in EUR (€).\n",
    "\n",
    "* Close is the closing price in EUR (€).\n",
    "\n",
    "* Volume"
   ]
  },
  {
   "cell_type": "code",
   "execution_count": 3,
   "id": "c3899869",
   "metadata": {},
   "outputs": [
    {
     "data": {
      "text/html": [
       "<div>\n",
       "<style scoped>\n",
       "    .dataframe tbody tr th:only-of-type {\n",
       "        vertical-align: middle;\n",
       "    }\n",
       "\n",
       "    .dataframe tbody tr th {\n",
       "        vertical-align: top;\n",
       "    }\n",
       "\n",
       "    .dataframe thead th {\n",
       "        text-align: right;\n",
       "    }\n",
       "</style>\n",
       "<table border=\"1\" class=\"dataframe\">\n",
       "  <thead>\n",
       "    <tr style=\"text-align: right;\">\n",
       "      <th></th>\n",
       "      <th>open</th>\n",
       "      <th>high</th>\n",
       "      <th>low</th>\n",
       "      <th>close</th>\n",
       "      <th>volume</th>\n",
       "    </tr>\n",
       "    <tr>\n",
       "      <th>ts</th>\n",
       "      <th></th>\n",
       "      <th></th>\n",
       "      <th></th>\n",
       "      <th></th>\n",
       "      <th></th>\n",
       "    </tr>\n",
       "  </thead>\n",
       "  <tbody>\n",
       "    <tr>\n",
       "      <th>2021-09-28 20:15:00</th>\n",
       "      <td>35399.0</td>\n",
       "      <td>35400.0</td>\n",
       "      <td>35357.0</td>\n",
       "      <td>35357.0</td>\n",
       "      <td>0.135480</td>\n",
       "    </tr>\n",
       "    <tr>\n",
       "      <th>2021-09-28 20:16:00</th>\n",
       "      <td>35401.0</td>\n",
       "      <td>35442.0</td>\n",
       "      <td>35380.0</td>\n",
       "      <td>35425.0</td>\n",
       "      <td>0.760452</td>\n",
       "    </tr>\n",
       "    <tr>\n",
       "      <th>2021-09-28 20:17:00</th>\n",
       "      <td>35425.0</td>\n",
       "      <td>35433.0</td>\n",
       "      <td>35395.0</td>\n",
       "      <td>35399.0</td>\n",
       "      <td>0.191009</td>\n",
       "    </tr>\n",
       "    <tr>\n",
       "      <th>2021-09-28 20:18:00</th>\n",
       "      <td>35419.0</td>\n",
       "      <td>35467.0</td>\n",
       "      <td>35392.0</td>\n",
       "      <td>35417.0</td>\n",
       "      <td>0.151922</td>\n",
       "    </tr>\n",
       "    <tr>\n",
       "      <th>2021-09-28 20:19:00</th>\n",
       "      <td>35476.0</td>\n",
       "      <td>35496.0</td>\n",
       "      <td>35457.0</td>\n",
       "      <td>35490.0</td>\n",
       "      <td>0.038856</td>\n",
       "    </tr>\n",
       "    <tr>\n",
       "      <th>...</th>\n",
       "      <td>...</td>\n",
       "      <td>...</td>\n",
       "      <td>...</td>\n",
       "      <td>...</td>\n",
       "      <td>...</td>\n",
       "    </tr>\n",
       "    <tr>\n",
       "      <th>2021-10-01 13:06:00</th>\n",
       "      <td>40602.0</td>\n",
       "      <td>40698.0</td>\n",
       "      <td>40583.0</td>\n",
       "      <td>40634.0</td>\n",
       "      <td>0.892091</td>\n",
       "    </tr>\n",
       "    <tr>\n",
       "      <th>2021-10-01 13:07:00</th>\n",
       "      <td>40688.0</td>\n",
       "      <td>40861.0</td>\n",
       "      <td>40632.0</td>\n",
       "      <td>40832.0</td>\n",
       "      <td>2.763189</td>\n",
       "    </tr>\n",
       "    <tr>\n",
       "      <th>2021-10-01 13:08:00</th>\n",
       "      <td>40805.0</td>\n",
       "      <td>40832.0</td>\n",
       "      <td>40699.0</td>\n",
       "      <td>40783.0</td>\n",
       "      <td>1.710451</td>\n",
       "    </tr>\n",
       "    <tr>\n",
       "      <th>2021-10-01 13:09:00</th>\n",
       "      <td>40734.0</td>\n",
       "      <td>40827.0</td>\n",
       "      <td>40719.0</td>\n",
       "      <td>40825.0</td>\n",
       "      <td>1.688542</td>\n",
       "    </tr>\n",
       "    <tr>\n",
       "      <th>2021-10-01 13:10:00</th>\n",
       "      <td>40839.0</td>\n",
       "      <td>40848.0</td>\n",
       "      <td>40716.0</td>\n",
       "      <td>40804.0</td>\n",
       "      <td>4.331882</td>\n",
       "    </tr>\n",
       "  </tbody>\n",
       "</table>\n",
       "<p>3702 rows × 5 columns</p>\n",
       "</div>"
      ],
      "text/plain": [
       "                        open     high      low    close    volume\n",
       "ts                                                               \n",
       "2021-09-28 20:15:00  35399.0  35400.0  35357.0  35357.0  0.135480\n",
       "2021-09-28 20:16:00  35401.0  35442.0  35380.0  35425.0  0.760452\n",
       "2021-09-28 20:17:00  35425.0  35433.0  35395.0  35399.0  0.191009\n",
       "2021-09-28 20:18:00  35419.0  35467.0  35392.0  35417.0  0.151922\n",
       "2021-09-28 20:19:00  35476.0  35496.0  35457.0  35490.0  0.038856\n",
       "...                      ...      ...      ...      ...       ...\n",
       "2021-10-01 13:06:00  40602.0  40698.0  40583.0  40634.0  0.892091\n",
       "2021-10-01 13:07:00  40688.0  40861.0  40632.0  40832.0  2.763189\n",
       "2021-10-01 13:08:00  40805.0  40832.0  40699.0  40783.0  1.710451\n",
       "2021-10-01 13:09:00  40734.0  40827.0  40719.0  40825.0  1.688542\n",
       "2021-10-01 13:10:00  40839.0  40848.0  40716.0  40804.0  4.331882\n",
       "\n",
       "[3702 rows x 5 columns]"
      ]
     },
     "execution_count": 3,
     "metadata": {},
     "output_type": "execute_result"
    }
   ],
   "source": [
    "btc = pd.read_sql_query(f'''\n",
    "SELECT datetime(c.timestamp, 'unixepoch', 'localtime') as ts,\n",
    "       c.open,\n",
    "       c.high,\n",
    "       c.low,\n",
    "       c.close,\n",
    "       c.volume\n",
    "  FROM candles_1m c\n",
    "  JOIN markets m\n",
    "    ON m.id = c.market_id\n",
    "   AND m.market = :market\n",
    "''', connection, params={'market': market}, index_col='ts', parse_dates='{ts}: {%Y-%m-%d %H:%m:%s}')\n",
    "\n",
    "btc"
   ]
  },
  {
   "cell_type": "markdown",
   "id": "cd3e372a",
   "metadata": {},
   "source": [
    "Plot the closing prices per minute for the market."
   ]
  },
  {
   "cell_type": "code",
   "execution_count": 4,
   "id": "0cd80bc0",
   "metadata": {},
   "outputs": [
    {
     "data": {
      "image/png": "[encoded data removed]",
      "text/plain": [
       "<Figure size 432x288 with 1 Axes>"
      ]
     },
     "metadata": {
      "needs_background": "light"
     },
     "output_type": "display_data"
    }
   ],
   "source": [
    "btc['close'].plot()\n",
    "\n",
    "plt.title(market)\n",
    "plt.xlabel('Date/Time')\n",
    "plt.ylabel('Price (€)')\n",
    "plt.xticks(rotation=90)\n",
    "plt.grid()\n",
    "plt.show()"
   ]
  }
 ],
 "metadata": {
  "kernelspec": {
   "display_name": "Python 3 (ipykernel)",
   "language": "python",
   "name": "python3"
  },
  "language_info": {
   "codemirror_mode": {
    "name": "ipython",
    "version": 3
   },
   "file_extension": ".py",
   "mimetype": "text/x-python",
   "name": "python",
   "nbconvert_exporter": "python",
   "pygments_lexer": "ipython3",
   "version": "3.9.2"
  }
 },
 "nbformat": 4,
 "nbformat_minor": 5
}
