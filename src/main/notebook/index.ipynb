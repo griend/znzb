{
 "cells": [
  {
   "cell_type": "markdown",
   "id": "73fb8545",
   "metadata": {},
   "source": [
    "# Index"
   ]
  },
  {
   "cell_type": "markdown",
   "id": "175b99c9",
   "metadata": {},
   "source": [
    "| Link | Description\n",
    "| :--- | :----------\n",
    "| [Install](install.ipynb) | Install Python modules in Jupyter Notebook automagically.\n",
    "| [Market](markets.ipynb) | Overview of markets in hte SQLite database\n",
    "| [BTC](btc.ipynb) | BTC Daily prices"
   ]
  },
  {
   "cell_type": "code",
   "execution_count": null,
   "id": "5c742ce6",
   "metadata": {},
   "outputs": [],
   "source": []
  }
 ],
 "metadata": {
  "kernelspec": {
   "display_name": "Python 3 (ipykernel)",
   "language": "python",
   "name": "python3"
  },
  "language_info": {
   "codemirror_mode": {
    "name": "ipython",
    "version": 3
   },
   "file_extension": ".py",
   "mimetype": "text/x-python",
   "name": "python",
   "nbconvert_exporter": "python",
   "pygments_lexer": "ipython3",
   "version": "3.9.7"
  }
 },
 "nbformat": 4,
 "nbformat_minor": 5
}
