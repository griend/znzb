{
 "cells": [
  {
   "cell_type": "markdown",
   "id": "300f5c9a",
   "metadata": {},
   "source": [
    "# Markets"
   ]
  },
  {
   "cell_type": "code",
   "execution_count": 1,
   "id": "0085f733",
   "metadata": {},
   "outputs": [],
   "source": [
    "%matplotlib notebook\n",
    "\n",
    "import datetime\n",
    "import os\n",
    "import sqlite3\n",
    "\n",
    "import matplotlib.pyplot as plt\n",
    "import numpy as np\n",
    "import pandas as pd"
   ]
  },
  {
   "cell_type": "code",
   "execution_count": 2,
   "id": "89352e35",
   "metadata": {},
   "outputs": [
    {
     "name": "stdout",
     "output_type": "stream",
     "text": [
      "db_filename ='~/var/zanzibar/db/zanzibar-20211001.db'\n"
     ]
    }
   ],
   "source": [
    "yesterday = datetime.date.today() - datetime.timedelta(1)\n",
    "db_filename = f'~/var/zanzibar/db/zanzibar-{yesterday:%Y%m%d}.db'\n",
    "\n",
    "print(f'{db_filename =}')\n",
    "\n",
    "connection = sqlite3.connect(os.path.expanduser('~/var/zanzibar/db/zanzibar.db'))"
   ]
  },
  {
   "cell_type": "code",
   "execution_count": 4,
   "id": "8641bee1",
   "metadata": {},
   "outputs": [
    {
     "data": {
      "text/html": [
       "<div>\n",
       "<style scoped>\n",
       "    .dataframe tbody tr th:only-of-type {\n",
       "        vertical-align: middle;\n",
       "    }\n",
       "\n",
       "    .dataframe tbody tr th {\n",
       "        vertical-align: top;\n",
       "    }\n",
       "\n",
       "    .dataframe thead th {\n",
       "        text-align: right;\n",
       "    }\n",
       "</style>\n",
       "<table border=\"1\" class=\"dataframe\">\n",
       "  <thead>\n",
       "    <tr style=\"text-align: right;\">\n",
       "      <th></th>\n",
       "      <th>market</th>\n",
       "      <th>status</th>\n",
       "      <th>base</th>\n",
       "      <th>quote</th>\n",
       "      <th>pricePrecision</th>\n",
       "      <th>minOrderInQuoteAsset</th>\n",
       "      <th>minOrderInBaseAsset</th>\n",
       "      <th>orderTypes</th>\n",
       "    </tr>\n",
       "    <tr>\n",
       "      <th>id</th>\n",
       "      <th></th>\n",
       "      <th></th>\n",
       "      <th></th>\n",
       "      <th></th>\n",
       "      <th></th>\n",
       "      <th></th>\n",
       "      <th></th>\n",
       "      <th></th>\n",
       "    </tr>\n",
       "  </thead>\n",
       "  <tbody>\n",
       "    <tr>\n",
       "      <th>35</th>\n",
       "      <td>BTC-EUR</td>\n",
       "      <td>trading</td>\n",
       "      <td>BTC</td>\n",
       "      <td>EUR</td>\n",
       "      <td>5</td>\n",
       "      <td>5.0</td>\n",
       "      <td>0.0001</td>\n",
       "      <td>market, limit, stopLoss, stopLossLimit, takePr...</td>\n",
       "    </tr>\n",
       "  </tbody>\n",
       "</table>\n",
       "</div>"
      ],
      "text/plain": [
       "     market   status base quote  pricePrecision  minOrderInQuoteAsset  \\\n",
       "id                                                                      \n",
       "35  BTC-EUR  trading  BTC   EUR               5                   5.0   \n",
       "\n",
       "    minOrderInBaseAsset                                         orderTypes  \n",
       "id                                                                          \n",
       "35               0.0001  market, limit, stopLoss, stopLossLimit, takePr...  "
      ]
     },
     "execution_count": 4,
     "metadata": {},
     "output_type": "execute_result"
    }
   ],
   "source": [
    "markets = pd.read_sql_query('SELECT * FROM markets', connection, index_col='id')\n",
    "\n",
    "markets[markets['market'] == 'BTC-EUR']"
   ]
  },
  {
   "cell_type": "code",
   "execution_count": null,
   "id": "1253b3f8",
   "metadata": {},
   "outputs": [],
   "source": []
  }
 ],
 "metadata": {
  "kernelspec": {
   "display_name": "Python 3 (ipykernel)",
   "language": "python",
   "name": "python3"
  },
  "language_info": {
   "codemirror_mode": {
    "name": "ipython",
    "version": 3
   },
   "file_extension": ".py",
   "mimetype": "text/x-python",
   "name": "python",
   "nbconvert_exporter": "python",
   "pygments_lexer": "ipython3",
   "version": "3.9.7"
  }
 },
 "nbformat": 4,
 "nbformat_minor": 5
}
